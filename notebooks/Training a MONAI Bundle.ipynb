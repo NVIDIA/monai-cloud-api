{
 "cells": [
  {
   "cell_type": "markdown",
   "metadata": {},
   "source": [
    "# Create datasets and run model train\n",
    "\n",
    "- Events\n",
    "    1. Support creation of datasets\n",
    "    2. Support the `nextimage`, `cacheimage`, `notify` actions\n",
    "    3. Support the model trainning"
   ]
  },
  {
   "cell_type": "markdown",
   "metadata": {},
   "source": [
    "## Setup imports"
   ]
  },
  {
   "cell_type": "code",
   "execution_count": null,
   "metadata": {},
   "outputs": [],
   "source": [
    "import requests\n",
    "import json"
   ]
  },
  {
   "cell_type": "markdown",
   "metadata": {},
   "source": [
    "## Set up login"
   ]
  },
  {
   "cell_type": "code",
   "execution_count": null,
   "metadata": {},
   "outputs": [],
   "source": [
    "monai_service = \"<monai service API address>\"\n",
    "host_url = f\"{monai_service}\"\n",
    "ngc_api_key = \"<ngc keys>\""
   ]
  },
  {
   "cell_type": "markdown",
   "metadata": {},
   "source": [
    "Object storage dataset basic info"
   ]
  },
  {
   "cell_type": "code",
   "execution_count": null,
   "metadata": {},
   "outputs": [],
   "source": [
    "# Object storage server\n",
    "manifest_url = \"<manifest url>\"\n",
    "access_id = \"<user name for the object storage>\"\n",
    "access_secret = \"<secret for the object storage>\""
   ]
  },
  {
   "cell_type": "markdown",
   "metadata": {},
   "source": [
    "Dicom dataset basic info"
   ]
  },
  {
   "cell_type": "code",
   "execution_count": null,
   "metadata": {},
   "outputs": [],
   "source": [
    "# Dicom Server\n",
    "dicom_web_endpoint = \"<dicom web url>\" # For example \"http://127.0.0.1:8042/dicom-web\".\n",
    "dicom_client_id = \"\"    # If Authentication is enabled, then provide username\n",
    "dicom_client_secret = \"\" # If Authentication is enabled, then provide password"
   ]
  },
  {
   "cell_type": "markdown",
   "metadata": {},
   "source": [
    "## Login with NGC Key"
   ]
  },
  {
   "cell_type": "code",
   "execution_count": null,
   "metadata": {},
   "outputs": [],
   "source": [
    "# Exchange NGC_API_KEY for JWT\n",
    "data = json.dumps({\"ngc_api_key\": ngc_api_key})\n",
    "response = requests.post(f\"{host_url}/api/v1/login\", data=data)#, verify=f\"/usr/share/ca-certificates/nvidia/nvidia.crt\")\n",
    "print(response.status_code)\n",
    "assert response.status_code in (200, 201)\n",
    "assert \"user_id\" in response.json().keys()\n",
    "user_id = response.json()[\"user_id\"]\n",
    "print(\"User ID\",user_id)\n",
    "assert \"token\" in response.json().keys()\n",
    "token = response.json()[\"token\"]\n",
    "print(\"JWT\",token)\n",
    "\n",
    "# Set base URL\n",
    "base_url = f\"{host_url}/api/v1/users/{user_id}\"\n",
    "print(\"API Calls will be forwarded to\",base_url)\n",
    "\n",
    "headers = {\"Authorization\": f\"Bearer {token}\"}\n"
   ]
  },
  {
   "cell_type": "markdown",
   "metadata": {},
   "source": [
    "## Create a dataset"
   ]
  },
  {
   "cell_type": "markdown",
   "metadata": {},
   "source": [
    "Based on object storage"
   ]
  },
  {
   "cell_type": "code",
   "execution_count": null,
   "metadata": {},
   "outputs": [],
   "source": [
    "data = {\n",
    "    \"name\": \"MONAI_CLOUD\",\n",
    "    \"description\":\"Object storage dataset\",\n",
    "    \"type\": \"semantic_segmentation\",\n",
    "    \"format\": \"monai\",\n",
    "    \"client_url\": manifest_url,\n",
    "    \"client_id\": access_id,\n",
    "    \"client_secret\": access_secret,\n",
    "}\n",
    "data=json.dumps(data)\n",
    "\n",
    "endpoint = f\"{base_url}/datasets\"\n",
    "print(endpoint)\n",
    "print(headers)\n",
    "response = requests.post(endpoint, data=data, headers=headers)\n",
    "print(response.json())\n",
    "\n",
    "if response.status_code == 201:\n",
    "    res = response.json()\n",
    "    dataset_id = res[\"id\"]\n",
    "    print(\"Dataset creation succeeded with dataset ID： \", dataset_id)\n",
    "    print(\"---------------------------------\\n\")\n",
    "    print(json.dumps(res, indent=2))\n",
    "else:\n",
    "    print(response.json())\n",
    "    print(response)"
   ]
  },
  {
   "cell_type": "markdown",
   "metadata": {},
   "source": [
    "Based on dicom"
   ]
  },
  {
   "cell_type": "code",
   "execution_count": null,
   "metadata": {},
   "outputs": [],
   "source": [
    "data = {\n",
    "    \"name\": \"mydataset\",\n",
    "    \"description\":\"a demo dataset\",\n",
    "    \"type\": \"semantic_segmentation\",\n",
    "    \"format\": \"monai\",\n",
    "    \"client_url\": f\"{dicom_web_endpoint}\",\n",
    "    \"client_id\": f\"{dicom_client_id}\",\n",
    "    \"client_secret\": f\"{dicom_client_secret}\",\n",
    "}\n",
    "\n",
    "endpoint = f\"{base_url}/datasets\"\n",
    "response = requests.post(endpoint, json=data, headers=headers)\n",
    "if response.status_code == 201:\n",
    "    res = response.json()\n",
    "    dataset_id = res[\"id\"]\n",
    "    print(\"Dataset creation succeeded with dataset ID: \", dataset_id)\n",
    "    print(\"---------------------------------\\n\")\n",
    "    print(json.dumps(res, indent=2))\n",
    "else:\n",
    "    print(response.json())\n",
    "    print(response)"
   ]
  },
  {
   "cell_type": "markdown",
   "metadata": {},
   "source": [
    "### Get the next image from the dataset. "
   ]
  },
  {
   "cell_type": "code",
   "execution_count": null,
   "metadata": {},
   "outputs": [],
   "source": [
    "data = {\"action\": \"nextimage\", \"specs\": {}}\n",
    "endpoint = f\"{base_url}/datasets/{dataset_id}/jobs\"\n",
    "response = requests.post(endpoint, json=data, headers=headers)\n",
    "\n",
    "if response.status_code == 201:\n",
    "    res = response.json()\n",
    "    image_id = res[\"image\"]\n",
    "    print(f\"Recommended Image to annotate: {image_id}\")\n",
    "    print(\"---------------------------------\\n\")\n",
    "    print(json.dumps(res, indent=2))\n",
    "else:\n",
    "    print(response.json())\n",
    "    print(response)"
   ]
  },
  {
   "cell_type": "markdown",
   "metadata": {},
   "source": [
    "### Cache image"
   ]
  },
  {
   "cell_type": "code",
   "execution_count": null,
   "metadata": {},
   "outputs": [],
   "source": [
    "specs = {\n",
    "    \"image\": image_id,\n",
    "    \"ttl\": 60,\n",
    "}\n",
    "data = {\"action\": \"cacheimage\", \"specs\": specs}\n",
    "endpoint = f\"{base_url}/datasets/{dataset_id}/jobs\"\n",
    "response = requests.post(endpoint, json=data, headers=headers)\n",
    "\n",
    "if response.status_code == 201:\n",
    "    res = response.json()\n",
    "    print(json.dumps(res, indent=2))\n",
    "else:\n",
    "    print(response.json())\n",
    "    print(response)"
   ]
  },
  {
   "cell_type": "markdown",
   "metadata": {},
   "source": [
    "### Notify dataset"
   ]
  },
  {
   "cell_type": "code",
   "execution_count": null,
   "metadata": {},
   "outputs": [],
   "source": [
    "# After uploading a Seg into cloud server\n",
    "endpoint = f\"{base_url}/datasets/{dataset_id}/jobs\"\n",
    "label_id = \"12345\"  # Fix This: Get This from cloud server for saved label\n",
    "specs = {\n",
    "    \"added\": {\n",
    "        \"image\": image_id,\n",
    "        \"label\": label_id,\n",
    "    },\n",
    "    \"updated\": [],\n",
    "    \"removed\": [],\n",
    "}\n",
    "\n",
    "data = {\"action\": \"notify\", \"specs\": specs}\n",
    "\n",
    "response = requests.post(endpoint, json=data, headers=headers)\n",
    "if response.status_code == 201:\n",
    "    print(\"Notified.\")\n",
    "else:\n",
    "    print(response.json())\n",
    "    print(response)"
   ]
  },
  {
   "cell_type": "markdown",
   "metadata": {},
   "source": [
    "## Model Creation (Data scientist)\n",
    "\n",
    "Create model with existing MONAI bundle."
   ]
  },
  {
   "cell_type": "markdown",
   "metadata": {},
   "source": [
    "### List Available PTM (Pre Trained Models)"
   ]
  },
  {
   "cell_type": "code",
   "execution_count": null,
   "metadata": {},
   "outputs": [],
   "source": [
    "endpoint = f\"{base_url}/experiments\"\n",
    "response = requests.get(endpoint, headers=headers)\n",
    "if response.status_code == 200:\n",
    "    res = response.json()\n",
    "\n",
    "    # Vista PTM\n",
    "    ptm_vista = [p for p in res if p[\"network_arch\"] == \"monai_vista3d\" and not len(p[\"base_experiment\"])][0][\"id\"]\n",
    "    print(f\"PTM ID for VISTA Model: {ptm_vista}\")\n",
    "    \n",
    "    # DeepEdit PTM\n",
    "    ptm_deepedit = [p for p in res if p[\"network_arch\"] == \"monai_annotation\" and not len(p[\"base_experiment\"])][0][\"id\"]\n",
    "    print(f\"PTM ID for DeepEdit Model: {ptm_deepedit}\")\n",
    "else:\n",
    "    print(response.json())\n",
    "    print(response)\n"
   ]
  },
  {
   "cell_type": "markdown",
   "metadata": {},
   "source": [
    "### Create Model"
   ]
  },
  {
   "cell_type": "code",
   "execution_count": null,
   "metadata": {},
   "outputs": [],
   "source": [
    "data = {\n",
    "  \"name\": \"my_vista\",\n",
    "  \"description\": \"based on vista\",\n",
    "  \"network_arch\": \"monai_vista3d\",\n",
    "  \"type\": \"medical\",\n",
    "  \"base_experiment\": [ ptm_vista ],\n",
    "  \"inference_dataset\": dataset_id,\n",
    "  \"eval_dataset\": dataset_id, #(Create Separate Dataset for Eval)\n",
    "  \"train_datasets\": [ dataset_id ],\n",
    "}\n",
    "\n",
    "endpoint = f\"{base_url}/experiments\"\n",
    "response = requests.post(endpoint, json=data, headers=headers)\n",
    "if response.status_code == 201:\n",
    "    res = response.json()\n",
    "    model_id = res[\"id\"]\n",
    "    model_network = res[\"network_arch\"]\n",
    "    print(\"Model creation succeeded with model ID： \", model_id)\n",
    "    print(\"---------------------------------\\n\")\n",
    "    print(json.dumps(res, indent=2))\n",
    "else:\n",
    "    print(response.json())\n",
    "    print(response)\n"
   ]
  },
  {
   "cell_type": "markdown",
   "metadata": {},
   "source": [
    "### Run a train job"
   ]
  },
  {
   "cell_type": "code",
   "execution_count": null,
   "metadata": {},
   "outputs": [],
   "source": [
    "train_spec = {\n",
    "    \"train#trainer#max_epochs\": 10,\n",
    "    \"val_interval\": 1,\n",
    "}\n",
    "\n",
    "data = {\"action\": \"train\", \"specs\": train_spec}\n",
    "endpoint = f\"{base_url}/experiments/{model_id}/jobs\"\n",
    "response = requests.post(endpoint, json=data, headers=headers)\n",
    "\n",
    "if response.status_code == 201:\n",
    "    job_id = response.json()\n",
    "    print(\"Job creation succeeded with job ID： \", job_id)\n",
    "else:\n",
    "    print(response.json())\n",
    "    print(response)\n"
   ]
  },
  {
   "cell_type": "markdown",
   "metadata": {},
   "source": [
    "### Check job status"
   ]
  },
  {
   "cell_type": "code",
   "execution_count": null,
   "metadata": {},
   "outputs": [],
   "source": [
    "# During the Job is Running \n",
    "endpoint = f\"{base_url}/experiments/{model_id}/jobs/{job_id}\"\n",
    "response = requests.get(endpoint, headers=headers)\n",
    "\n",
    "if response.status_code == 200:\n",
    "    for k, v in response.json().items():\n",
    "        if k != \"result\":\n",
    "            print(f\"{k}: {v}\")\n",
    "        else:\n",
    "            print(\"result:\")\n",
    "            for k1, v1 in v.items():\n",
    "                print(f\"    {k1}: {v1}\")\n",
    "else:\n",
    "    print(response.json())\n",
    "    print(response)\n"
   ]
  },
  {
   "cell_type": "markdown",
   "metadata": {},
   "source": [
    "### Delete Job"
   ]
  },
  {
   "cell_type": "code",
   "execution_count": null,
   "metadata": {},
   "outputs": [],
   "source": [
    "endpoint = f\"{base_url}/experiments/{model_id}/jobs/{job_id}\"\n",
    "response = requests.delete(endpoint, headers=headers)\n",
    "\n",
    "print(response)"
   ]
  },
  {
   "cell_type": "markdown",
   "metadata": {},
   "source": [
    "## Delete Datasets"
   ]
  },
  {
   "cell_type": "code",
   "execution_count": null,
   "metadata": {},
   "outputs": [],
   "source": [
    "endpoint = f\"{base_url}/datasets/{dataset_id}\"\n",
    "response = requests.delete(endpoint, headers=headers)\n",
    "print(response)"
   ]
  }
 ],
 "metadata": {
  "kernelspec": {
   "display_name": "Python 3 (ipykernel)",
   "language": "python",
   "name": "python3"
  },
  "language_info": {
   "codemirror_mode": {
    "name": "ipython",
    "version": 3
   },
   "file_extension": ".py",
   "mimetype": "text/x-python",
   "name": "python",
   "nbconvert_exporter": "python",
   "pygments_lexer": "ipython3",
   "version": "3.11.5"
  },
  "vscode": {
   "interpreter": {
    "hash": "006d5deb8e6cdcd4312641bdf15f3bc20f0769a7305d81173599a7b40f33b4a2"
   }
  }
 },
 "nbformat": 4,
 "nbformat_minor": 4
}
