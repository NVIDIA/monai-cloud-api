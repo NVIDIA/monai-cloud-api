{
 "cells": [
  {
   "cell_type": "markdown",
   "id": "a52a369d-7674-49e5-a75a-637d377f6858",
   "metadata": {},
   "source": [
    "# Generating and Managing Your Credentials for NVIDIA MONAI Cloud APIs\n",
    "\n",
    "Welcome to the guide on obtaining and managing your credentials for NVIDIA MONAI Cloud APIs. Proper authentication is vital to ensure security and personalized access to the APIs. Let's dive in.\n",
    "\n",
    "[![Open In Colab](https://colab.research.google.com/assets/colab-badge.svg)](https://colab.research.google.com/github/NVIDIA/monai-cloud-api/blob/main/notebooks/Generating%20and%20Managing%20Your%20Credentials.ipynb)\n",
    "\n",
    "## Table of Contents\n",
    "\n",
    "- Generating Your API Credentials\n",
    "- Refreshing Your Credentials\n",
    "- Securing Your Credentials\n",
    "- Troubleshooting Common Issues\n",
    "- Conclusion\n",
    "\n",
    "## Introduction\n",
    "\n",
    "To ensure a secure experience and maintain data privacy, NVIDIA MONAI Cloud APIs require authentication. This tutorial will guide you through the process of generating and managing these API credentials.\n",
    "\n",
    "## Generating Your API Credentials\n",
    "\n",
    "1. **Accessing the Credentials Dashboard**:\n",
    "    - Navigate to NVIDIA NGC.\n",
    "    - Login\n",
    "    - Click on your User dropdown in the top-right\n",
    "    - Click on 'Setup'\n",
    "\n",
    "2. **Requesting New Credentials**:\n",
    "    - Click on 'Get API Key'\n",
    "    - Click on the 'Generate New Key'\n",
    "    - After confirmation, you'll receive your API key.\n",
    "\n",
    "3. **Storing Your Credentials**:\n",
    "    - It's crucial to store this API key securely. \n",
    "    - We recommend copying the key and storing it in a secure password manager or an encrypted file.\n",
    "    \n",
    "Additional resources for configuration:\n",
    "- https://docs.nvidia.com/ngc/gpu-cloud/ngc-user-guide/index.html\n",
    "- https://ngc.nvidia.com/setup\n",
    "- https://www.youtube.com/watch?v=yBNt4qSnn0k\n",
    "    \n",
    "## Testing Your API Credentials\n",
    "\n",
    "To ensure a seamless experience with NVIDIA MONAI Cloud APIs, it's crucial to validate that your credentials are correctly set up. Let's test them.\n",
    "\n",
    "1. **Replace Placeholders**: In the code block below, replace the placeholders (`<MONAI Cloud API address>`, and `<Your NGC API Key>`) with your actual values.\n",
    "\n",
    "2. **Run the Code Block**: Execute the code. If everything is set up correctly, it will print a success statement. If there's an issue, it will guide you toward troubleshooting.\n"
   ]
  },
  {
   "cell_type": "code",
   "execution_count": null,
   "id": "9528f119",
   "metadata": {},
   "outputs": [],
   "source": [
    "import json\n",
    "import requests\n",
    "import os"
   ]
  },
  {
   "cell_type": "code",
   "execution_count": null,
   "id": "4e69148f-2619-4b7d-bfb2-8c707eb0b511",
   "metadata": {
    "tags": [
     "parameters"
    ]
   },
   "outputs": [],
   "source": [
    "# API Endpoint and Credentials\n",
    "host_url = \"https://api.monai.ngc.nvidia.com\"\n",
    "ngc_api_key = os.environ.get('MONAI_API_KEY')"
   ]
  },
  {
   "cell_type": "code",
   "execution_count": null,
   "id": "a95d7fc7",
   "metadata": {},
   "outputs": [],
   "source": [
    "# Exchange NGC_API_KEY for JWT\n",
    "data = json.dumps({\"ngc_api_key\": ngc_api_key})\n",
    "response = requests.post(f\"{host_url}/api/v1/login\", data=data)\n",
    "assert response.status_code == 201, f\"Login failed, got status code: {response.status_code}.\"\n",
    "assert \"user_id\" in response.json().keys(), \"user_id is not in response.\"\n",
    "user_id = response.json()[\"user_id\"]\n",
    "print(\"User ID\",user_id)\n",
    "assert \"token\" in response.json().keys(), \"token is not in response.\"\n",
    "token = response.json()[\"token\"]\n",
    "print(\"JWT\",token)\n",
    "\n",
    "# Construct the URL and Headers\n",
    "base_url = f\"{host_url}/api/v1/orgs/iasixjqzw1hj\"\n",
    "print(\"API Calls will be forwarded to\",base_url)\n",
    "\n",
    "headers = {\"Authorization\": f\"Bearer {token}\"}"
   ]
  },
  {
   "cell_type": "markdown",
   "id": "7cb3857b-d969-4de3-8603-9c2ee272b5bf",
   "metadata": {},
   "source": [
    "## Refreshing Your Credentials\n",
    "\n",
    "In some cases, you might need to refresh or renew your API credentials. Here's how:\n",
    "\n",
    "1. Navigate to the same 'Credentials' section on the dashboard.\n",
    "2. Click the `Generate` a new key button.\n",
    "3. Confirm any prompts. A new key will replace the old one, rendering the old key inactive.\n",
    "\n",
    "**Note**: If you refresh your credentials, any application using the old key will no longer work and will need to be updated with the new key.\n",
    "\n",
    "## Securing Your Credentials\n",
    "\n",
    "1. **Avoid Hardcoding in Scripts**: Never hardcode your API keys directly in your scripts or applications.\n",
    "2. **Use Environment Variables**: A safer approach is to store your API key as an environment variable and then access it in your script.\n",
    "3. **Limited Sharing**: Only share your credentials with trusted individuals or teams.\n",
    "\n",
    "```python\n",
    "import os\n",
    "\n",
    "# Example to fetch the API key from environment variables\n",
    "API_KEY = os.environ.get('MONAI_API_KEY')\n",
    "\n",
    "if API_KEY is None:\n",
    "    print(\"API_KEY is not set. Ensure the MONAI_API_KEY environment variable is correctly configured.\")\n",
    "```\n",
    "\n",
    "## Troubleshooting Common Issues\n",
    "\n",
    "1. **Key Expiry**: If you're facing authentication issues, check the validity of your API key. It might have expired.\n",
    "2. **Invalid Key Format**: Ensure that the key hasn't been truncated or modified.\n",
    "\n",
    "## Conclusion\n",
    "\n",
    "You're now equipped with the knowledge to generate, manage, and secure your credentials for the NVIDIA MONAI Cloud APIs. As a next step, you can dive into setting up your dataset, initializing models, or any other task you wish to pursue with the APIs."
   ]
  }
 ],
 "metadata": {
  "kernelspec": {
   "display_name": "venv",
   "language": "python",
   "name": "python3"
  },
  "language_info": {
   "name": "python",
   "version": "3.11.7"
  }
 },
 "nbformat": 4,
 "nbformat_minor": 5
}
