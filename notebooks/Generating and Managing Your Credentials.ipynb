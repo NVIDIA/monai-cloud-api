{
 "cells": [
  {
   "cell_type": "markdown",
   "id": "a52a369d-7674-49e5-a75a-637d377f6858",
   "metadata": {},
   "source": [
    "# Generating and Managing Your Credentials for NVIDIA MONAI Cloud APIs\n",
    "\n",
    "Welcome to the guide for obtaining and managing your credentials for NVIDIA MONAI Cloud APIs. Proper authentication is vital to ensure security and personalized access to the APIs. This tutorial will guide you through the process of generating and managing your credentials.\n",
    "\n",
    "[![Open In Colab](https://colab.research.google.com/assets/colab-badge.svg)](https://colab.research.google.com/github/NVIDIA/monai-cloud-api/blob/main/notebooks/Generating%20and%20Managing%20Your%20Credentials.ipynb)\n",
    "\n",
    "## Table of Contents\n",
    "\n",
    "- Generating Your API Credentials\n",
    "- Refreshing Your Credentials\n",
    "- Securing Your Credentials\n",
    "- Troubleshooting Common Issues\n",
    "- Conclusion\n",
    "\n",
    "## Introduction\n",
    "\n",
    "NVIDIA MONAI Cloud APIs require authentication to ensure a secure experience and maintain data privacy. This tutorial covers generating and managing these credentials.\n",
    "\n",
    "## Generating Your API Credentials\n",
    "\n",
    "1. **Accessing the Credentials Dashboard**:\n",
    "    - Navigate to NVIDIA NGC\n",
    "    - Log in\n",
    "    - Click on your user dropdown at the top-right, and select 'Setup'.\n",
    "\n",
    "2. **Requesting New Credentials**:\n",
    "    - Click 'Get API Key'\n",
    "    - Click 'Generate New Key'\n",
    "    - Upon confirmation, you will receive your API key.\n",
    "\n",
    "3. **Storing Your Credentials**:\n",
    "    - Store this API key securely, preferably in a password manager or an encrypted file.\n",
    "    - Envrionment variables are a common way to store API keys. For example, you can add the following line to your `.bashrc` or `.bash_profile` file:\n",
    "    ```bash\n",
    "    export MONAI_API_KEY=<Your NGC API Key>\n",
    "    ```\n",
    "    \n",
    "Additional resources for configuration:\n",
    "- https://docs.nvidia.com/ngc/gpu-cloud/ngc-user-guide/index.html\n",
    "- https://ngc.nvidia.com/setup\n",
    "- https://www.youtube.com/watch?v=yBNt4qSnn0k\n",
    "    \n",
    "## Testing Your API Credentials\n",
    "\n",
    "To ensure a seamless experience with NVIDIA MONAI Cloud APIs, it is crucial to validate that your credentials are correctly set up.\n",
    "\n",
    "**Run the Code Block**: \n",
    "Execute the code. If everything is set up correctly, it will print a success statement. If there's an issue, it will guide you toward troubleshooting.\n"
   ]
  },
  {
   "cell_type": "code",
   "execution_count": null,
   "id": "9528f119",
   "metadata": {},
   "outputs": [],
   "source": [
    "import json\n",
    "import requests\n",
    "import os"
   ]
  },
  {
   "cell_type": "code",
   "execution_count": null,
   "id": "4e69148f-2619-4b7d-bfb2-8c707eb0b511",
   "metadata": {
    "tags": [
     "parameters"
    ]
   },
   "outputs": [],
   "source": [
    "# API Endpoint and Credentials\n",
    "host_url = \"https://api.monai.ngc.nvidia.com\"\n",
    "ngc_api_key = os.environ.get(\"MONAI_API_KEY\", \"<YOUR_API_KEY>\")  # we recommend using environment variables for API keys, but you can also hardcode them here"
   ]
  },
  {
   "cell_type": "code",
   "execution_count": null,
   "id": "a95d7fc7",
   "metadata": {},
   "outputs": [],
   "source": [
    "# Exchange NGC_API_KEY for JWT\n",
    "data = json.dumps({\"ngc_api_key\": ngc_api_key})\n",
    "response = requests.post(f\"{host_url}/api/v1/login\", data=data)\n",
    "assert response.status_code == 201, f\"Login failed, got status code: {response.status_code}.\"\n",
    "assert \"user_id\" in response.json().keys(), \"user_id is not in response.\"\n",
    "user_id = response.json()[\"user_id\"]\n",
    "print(\"User ID\", user_id)\n",
    "assert \"token\" in response.json().keys(), \"token is not in response.\"\n",
    "token = response.json()[\"token\"]\n",
    "print(\"JWT\", token)\n",
    "\n",
    "# Construct the URL and Headers\n",
    "base_url = f\"{host_url}/api/v1/orgs/iasixjqzw1hj\"\n",
    "print(\"API Calls will be forwarded to\",base_url)\n",
    "\n",
    "headers = {\"Authorization\": f\"Bearer {token}\"}"
   ]
  },
  {
   "cell_type": "markdown",
   "id": "7cb3857b-d969-4de3-8603-9c2ee272b5bf",
   "metadata": {},
   "source": [
    "## Refreshing Your Credentials\n",
    "\n",
    "In some cases, you might need to refresh or renew your API credentials. Here's how:\n",
    "\n",
    "1. Navigate to the same 'Credentials' section on the dashboard\n",
    "2. Click the `Generate New Key`\n",
    "3. Confirm any prompts. A new key will replace the old one, rendering the old key inactive.\n",
    "\n",
    "**Note**: If you refresh your credentials, any application using the old key will no longer work and will need to be updated with the new key.\n",
    "\n",
    "## Securing Your Credentials\n",
    "\n",
    "1. **Avoid hard coding in scripts**: Never hardcode your API keys directly in your scripts or applications.\n",
    "2. **Use environment variables**: A safer approach is to store your API key as an environment variable and then access it in your script.\n",
    "3. **Limit sharing**: Only share your credentials with trusted individuals or teams.\n",
    "\n",
    "```python\n",
    "import os\n",
    "\n",
    "# Example to fetch the API key from environment variables\n",
    "API_KEY = os.environ.get('MONAI_API_KEY')\n",
    "\n",
    "if API_KEY is None:\n",
    "    print(\"API_KEY is not set. Ensure the MONAI_API_KEY environment variable is correctly configured.\")\n",
    "```\n",
    "\n",
    "## Troubleshooting Common Issues\n",
    "\n",
    "1. **Key expiration**: If you're facing authentication issues, check the validity of your API key. It might have expired.\n",
    "2. **Invalid key format**: Ensure the key is complete and has not been truncated or modified.\n",
    "\n",
    "## Conclusion\n",
    "\n",
    "You're now equipped with the knowledge to generate, manage, and secure your credentials for the NVIDIA MONAI Cloud APIs. As a next step, you can dive into setting up your dataset, initializing models, or any other task you wish to pursue with the APIs."
   ]
  }
 ],
 "metadata": {
  "kernelspec": {
   "display_name": "venv",
   "language": "python",
   "name": "python3"
  },
  "language_info": {
   "name": "python",
   "version": "3.11.7"
  }
 },
 "nbformat": 4,
 "nbformat_minor": 5
}
