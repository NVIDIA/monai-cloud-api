{
 "cells": [
  {
   "cell_type": "markdown",
   "id": "b15c8ea3-8bd2-4511-a2a4-baa7d3fa948a",
   "metadata": {},
   "source": [
    "# OHIF Setup Guide\n",
    "\n",
    "### TODO"
   ]
  },
  {
   "cell_type": "code",
   "execution_count": null,
   "id": "889f4f89-0822-44b3-a8a2-46814d49f326",
   "metadata": {},
   "outputs": [],
   "source": []
  }
 ],
 "metadata": {
  "kernelspec": {
   "display_name": "MONAI Fix",
   "language": "python",
   "name": "monai_fix"
  },
  "language_info": {
   "codemirror_mode": {
    "name": "ipython",
    "version": 3
   },
   "file_extension": ".py",
   "mimetype": "text/x-python",
   "name": "python",
   "nbconvert_exporter": "python",
   "pygments_lexer": "ipython3",
   "version": "3.9.16"
  }
 },
 "nbformat": 4,
 "nbformat_minor": 5
}
