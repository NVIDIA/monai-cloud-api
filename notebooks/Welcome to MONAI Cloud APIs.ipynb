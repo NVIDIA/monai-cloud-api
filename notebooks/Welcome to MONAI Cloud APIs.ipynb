{
 "cells": [
  {
   "cell_type": "markdown",
   "id": "489d2627-37b2-4ddf-91e3-7128e2ae74bb",
   "metadata": {
    "tags": []
   },
   "source": [
    "# Introduction to NVIDIA MONAI Cloud APIs\n",
    "\n",
    "Welcome to NVIDIA MONAI Cloud APIs, a comprehensive suite designed to streamline and elevate your medical imaging workflows. If you're aiming to integrate advanced machine learning capabilities into your medical applications, you've come to the right place.\n",
    "\n",
    "## What are NVIDIA MONAI Cloud APIs?\n",
    "\n",
    "NVIDIA MONAI Cloud APIs is an NVIDIA-managed solution, focusing on making the medical imaging lifecycle easier with service integration from annotation, to training, to inference. With a foundation in the [MONAI ecosystem](https://monai.io/), these APIs offer a seamless interface to researchers and data scientists aiming to deploy, manage, and refine AI models in medical imaging applications.\n",
    "\n",
    "## Navigating the Documentation\n",
    "\n",
    "To make the most of NVIDIA MONAI Cloud APIs, we've laid out a pathway depending on where you're at in your journey. Here's a step-by-step approach to get you started:\n",
    "\n",
    "### 1. Get Your Credentials\n",
    "Your first step is to secure credentials that allow you to interact with the APIs. This is pivotal as it ensures a secure, personalized experience.\n",
    "\n",
    "- [Generating and Managing Your Credentials](./Generating%20and%20Managing%20Your%20Credentials.ipynb)\n",
    "\n",
    "### 2. Set Up Dataset and Model\n",
    "Once you have your credentials, it's time to dive into the heart of the system. This step involves preparing your medical datasets and choosing the right model for your specific needs.\n",
    "\n",
    "- [Dataset Preparation and Model Selection](./Dataset%20Creation%20and%20Model%20Selection.ipynb)\n",
    "\n",
    "### 3. Annotation and Continuous Learning Jobs\n",
    "With your data and model in place, harness the power of NVIDIA MONAI Cloud APIs to kickstart the annotation process. This section delves deep into the functionalities that drive continuous learning.\n",
    "\n",
    "- [Annotation and Continuous Learning Overview](./Annotation%20and%20Continuous%20Learning%20Overview.ipynb)\n",
    "\n",
    "### 4. OHIF Viewer and Plugin Setup\n",
    "Visualization is key in medical imaging. Learn how to integrate the OHIF Viewer with NVIDIA MONAI Cloud APIs for an interactive and enriching user experience.\n",
    "\n",
    "- [OHIF Setup Guide](../plugins/ohif/README.md)\n",
    "\n",
    "### 5. DICOMWeb Server Setup\n",
    "If you're handling DICOM data, setting up a DICOMWeb server is a foundational step. This guide will provide a comprehensive overview, ensuring smooth communication between your data storage and the APIs.\n",
    "\n",
    "- [DICOMWeb Server Configuration](https://www.orthanc-server.com/static.php?page=dicomweb)\n",
    "\n",
    "---\n",
    "\n",
    "Now that you have a clear roadmap, dive in, and make the most of NVIDIA MONAI Cloud APIs. Should you have any queries or require further clarification, feel free to reference the documentation or reach out to our support channels. Happy developing!"
   ]
  },
  {
   "cell_type": "code",
   "execution_count": null,
   "id": "436d35c0-aa44-41d6-99bc-d6ae1d9d4f20",
   "metadata": {},
   "outputs": [],
   "source": []
  }
 ],
 "metadata": {
  "kernelspec": {
   "display_name": "MONAI Fix",
   "language": "python",
   "name": "monai_fix"
  },
  "language_info": {
   "codemirror_mode": {
    "name": "ipython",
    "version": 3
   },
   "file_extension": ".py",
   "mimetype": "text/x-python",
   "name": "python",
   "nbconvert_exporter": "python",
   "pygments_lexer": "ipython3",
   "version": "3.9.16"
  }
 },
 "nbformat": 4,
 "nbformat_minor": 5
}
