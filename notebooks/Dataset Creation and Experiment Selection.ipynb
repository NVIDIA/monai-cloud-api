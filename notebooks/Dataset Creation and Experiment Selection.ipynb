{
 "cells": [
  {
   "cell_type": "markdown",
   "id": "4e98b804-a695-48cb-8bad-f22a33338b84",
   "metadata": {},
   "source": [
    "# Dataset Creation and Experiment Selection using NVIDIA MONAI Cloud APIs\n",
    "\n",
    "In this guide, we'll walk you through the foundational steps of creating a dataset suitable to use with NVIDIA MONAI Cloud APIs and selecting an appropriate base experiment for your medical imaging needs.\n",
    "\n",
    "[![Open In Colab](https://colab.research.google.com/assets/colab-badge.svg)](https://colab.research.google.com/github/NVIDIA/monai-cloud-api/blob/main/notebooks/Dataset%20Creation%20and%20Experiment%20Selection.ipynb)\n",
    "\n",
    "## Table of Contents\n",
    "\n",
    "- Dataset Creation\n",
    "- Experiment Selection\n",
    "- Deleting Datasets and Experiments\n",
    "- Conclusion\n",
    "\n",
    "## Introduction\n",
    "\n",
    "The creation of a coherent dataset and the choice of the right base experiment are cornerstones of any medical imaging project. NVIDIA MONAI Cloud APIs are designed to streamline this process, allowing you to focus on what's essential. This guide provides step-by-step instructions to facilitate these foundational preparations.\n",
    "\n",
    "If you haven't already generated your key or if you're unsure about the process, follow our step-by-step for [Generating and Managing Your Credentials](./Generating%20and%20Managing%20Your%20Credentials.ipynb)."
   ]
  },
  {
   "cell_type": "code",
   "execution_count": null,
   "id": "8d6bdf01",
   "metadata": {},
   "outputs": [],
   "source": [
    "import json\n",
    "import requests\n",
    "import os"
   ]
  },
  {
   "attachments": {},
   "cell_type": "markdown",
   "id": "bfde0f3c",
   "metadata": {},
   "source": [
    "<a id='Parameters'></a>\n",
    "\n",
    "### Parameters\n",
    "\n",
    "The following cell contains all parameters that need to be replaced when executing."
   ]
  },
  {
   "cell_type": "code",
   "execution_count": null,
   "id": "4d538ab7",
   "metadata": {
    "tags": [
     "parameters"
    ]
   },
   "outputs": [],
   "source": [
    "# API Endpoint and Credentials\n",
    "host_url = \"<MONAI Cloud API URL>\"\n",
    "ngc_api_key = os.environ.get('MONAI_API_KEY')\n",
    "\n",
    "# dicomweb parameters (will be introduced in Section: Dataset Creation)\n",
    "dicom_web_endpoint = \"<DICOMWeb address>\"  # For example \"http://127.0.0.1:8042/dicom-web\".\n",
    "dicom_client_id = \"<DICOMWeb user ID>\"     # If Authentication is enabled, then provide username\n",
    "dicom_client_secret = \"<DICOMWeb secret>\"  # If Authentication is enabled, then provide password"
   ]
  },
  {
   "cell_type": "code",
   "execution_count": null,
   "id": "b30ba3c4-e68a-428a-9dde-cdf4d5510c42",
   "metadata": {},
   "outputs": [],
   "source": [
    "# NGC UID\n",
    "api_url = f\"{host_url}/api/v1\"\n",
    "response = requests.post(f\"{api_url}/login\", data=json.dumps({\"ngc_api_key\": ngc_api_key}))\n",
    "assert response.status_code == 201, f\"Login failed, got status code: {response.status_code}.\"\n",
    "assert \"user_id\" in response.json().keys(), \"user_id is not in response.\"\n",
    "assert \"token\" in response.json().keys(), \"token is not in response.\"\n",
    "\n",
    "uid = response.json()[\"user_id\"]\n",
    "token = response.json()[\"token\"]\n",
    "\n",
    "# Construct the URL and Headers\n",
    "base_url = f\"{api_url}/users/{uid}\"\n",
    "headers = {\"Authorization\": f\"Bearer {token}\"}"
   ]
  },
  {
   "attachments": {},
   "cell_type": "markdown",
   "id": "55d86f71-8681-4ca9-8316-7784f25297bc",
   "metadata": {},
   "source": [
    "## Dataset Creation\n",
    "\n",
    "### **1. Data Sources**\n",
    "\n",
    "The first substantial step is curating an appropriate dataset, then you ready to create a reference object to that dataset by utilizing DICOMWeb. DICOMWeb is a modern web standard for accessing DICOM data. By connecting NVIDIA MONAI Cloud APIs to a DICOMWeb endpoint, you can seamlessly integrate to your data into many modern viewers.\n",
    "\n",
    "**Steps:**\n",
    "1. Set up your DICOMWeb Interface: Before integrating with MONAI, ensure your DICOMWeb interface is up and functional. This will serve as the primary bridge between your data storage and NVIDIA MONAI Cloud APIs.\n",
    "2. Permissions and Security: Given the sensitive nature of medical data, always ensure that the necessary security measures are in place. Grant NVIDIA MONAI Cloud APIs the appropriate access permissions while maintaining strict compliance with regulations.\n",
    "\n",
    "For a comprehensive walkthrough on these steps and more, refer to our detailed guide on [DICOMWeb Server Configuration](./DICOMWeb%20Server%20Configuration.ipynb).\n",
    "\n",
    "After preparing your DICOMWeb dataset, please modify the following variables in [Parameters](#Parameters):\n",
    "\n",
    "```\n",
    "dicom_web_endpoint = ...\n",
    "dicom_client_id = ...\n",
    "dicom_client_secret = ...\n",
    "```"
   ]
  },
  {
   "cell_type": "markdown",
   "id": "963a7494-c4d0-4cfe-a0cd-c52fd6dedad1",
   "metadata": {},
   "source": [
    "### **2. Using a DICOMWeb Endpoint to Create Datasets**\n",
    "\n",
    "After you've completed the steps above, it's time to run the API to create your dataset.  Below you'll find an example request along with associated parameters and description.\n",
    "\n"
   ]
  },
  {
   "cell_type": "code",
   "execution_count": null,
   "id": "3ca90d09-4d8e-4d35-a899-fb78f72e6374",
   "metadata": {},
   "outputs": [],
   "source": [
    "data = {\n",
    "        \"name\": \"mydataset\",\n",
    "        \"description\":\"a demo dataset\",\n",
    "        \"type\": \"semantic_segmentation\",\n",
    "        \"format\": \"monai\",\n",
    "        \"client_url\": f\"{dicom_web_endpoint}\",\n",
    "        \"client_id\": f\"{dicom_client_id}\",\n",
    "        \"client_secret\": f\"{dicom_client_secret}\",\n",
    "    }\n",
    "\n",
    "endpoint = f\"{base_url}/datasets\"\n",
    "response = requests.post(endpoint, json=data, headers=headers)\n",
    "assert response.status_code == 201, f\"Create dataset failed, got {response.text}.\"\n",
    "res = response.json()\n",
    "dataset_id = res[\"id\"]\n",
    "print(\"Dataset creation succeeded with dataset ID: \", dataset_id)\n",
    "print(\"---------------------------------\\n\")\n",
    "print(json.dumps(res, indent=2))"
   ]
  },
  {
   "cell_type": "markdown",
   "id": "616578b8-79e8-42d5-8ef0-1ebdecdf3c51",
   "metadata": {},
   "source": [
    "## Experiment Selection\n",
    "\n",
    "### Available Base Experiments\n",
    "\n",
    "NVIDIA MONAI Cloud APIs boast a variety of base experiments (including pre-trained models and algorithm templates), each honed for different tasks including **DeepEdit**, **VISTA-3D** and **Auto3DSeg**.\n",
    "\n",
    "**Recommendation:** Start with VISTA-3D. Its versatile design allows you to branch out and customize as your requirements evolve.\n",
    "\n",
    "### List Available Base Experiments\n",
    "\n",
    "When referring to experiments in API calls, you'll want to reference the Base Experiment ID when indicated.  You can see all available experiments by calling to the experiment API endpoint."
   ]
  },
  {
   "cell_type": "code",
   "execution_count": null,
   "id": "866c4e8f-48fc-4799-a7b0-5aad26839bab",
   "metadata": {},
   "outputs": [],
   "source": [
    "endpoint = f\"{base_url}/experiments\"\n",
    "response = requests.get(endpoint, headers=headers)\n",
    "assert response.status_code == 200, f\"List experiments failed, got {response.json()}.\"\n",
    "res = response.json()\n",
    "\n",
    "# VISTA-3D Base Experiment\n",
    "ptm_vista = [p for p in res if p[\"network_arch\"] == \"monai_vista3d\" and not len(p[\"base_experiment\"])][0][\"id\"]\n",
    "print(f\"Base Experiment ID for VISTA-3D Experiment: {ptm_vista}\")\n",
    "\n",
    "# DeepEdit Base Experiment\n",
    "ptm_deepedit = [p for p in res if p[\"network_arch\"] == \"monai_annotation\" and not len(p[\"base_experiment\"])][0][\"id\"]\n",
    "print(f\"Base Experiment ID for DeepEdit Experiment: {ptm_deepedit}\")"
   ]
  },
  {
   "cell_type": "markdown",
   "id": "53651632-d5b7-480f-94d0-fc15f603f3bb",
   "metadata": {},
   "source": [
    "### Create Experiment\n",
    "\n",
    "1. **MONAI Bundle**: We're using the VISTA-3D bundle as an example. Choose the one fitting your application.\n",
    "2. **Dataset Setup**: All data is under one dataset ID for this demo. Adjust as per your data structure.\n",
    "3. **Pretrained Weights**: Opt for a pretrained model to enhance performance.\n",
    "4. **Real-time Inference**: For real-time inference during annotation jobs or auto segmentation, set `realtime_infer` to **True** and provide an `inference_dataset`; otherwise, set it to **False**. In this example, we're setting it to **False** as we aren't initiating an annotation job.."
   ]
  },
  {
   "cell_type": "code",
   "execution_count": null,
   "id": "fd86ec1b-2954-4e21-8991-e8862b283207",
   "metadata": {},
   "outputs": [],
   "source": [
    "data = {\n",
    "  \"name\": \"monai_vista\",\n",
    "  \"description\": \"Based on vista\",\n",
    "  \"network_arch\": \"monai_vista3d\",\n",
    "  \"type\": \"medical\",\n",
    "  \"base_experiment\": [ ptm_vista ],\n",
    "  \"inference_dataset\": dataset_id,\n",
    "  \"eval_dataset\": dataset_id,\n",
    "  \"train_datasets\": [ dataset_id ],\n",
    "  \"realtime_infer\": False,\n",
    "}\n",
    "\n",
    "endpoint = f\"{base_url}/experiments\"\n",
    "response = requests.post(endpoint, json=data, headers=headers)\n",
    "assert response.status_code == 201, f\"Create experiment failed, got {response.json()}.\"\n",
    "res = response.json()\n",
    "experiment_id = res[\"id\"]\n",
    "model_network = res[\"network_arch\"]\n",
    "print(\"Experiment creation succeeded with experiment ID:\", experiment_id)\n",
    "print(\"---------------------------------\\n\")\n",
    "print(json.dumps(res, indent=2))"
   ]
  },
  {
   "cell_type": "markdown",
   "id": "d01c5d74-4a2d-4c92-af75-9f0c28761b69",
   "metadata": {},
   "source": [
    "#### **Customize VISTA-3D Experiment**\n",
    "\n",
    "The VISTA-3D model provides a comprehensive set of 117 classes. However, there might be scenarios where you need a subset of these classes or want to introduce new ones. Customizing is made easy with the MONAI Cloud APIs:\n",
    "\n",
    "1. **Selecting a Subset of Classes**\n",
    "\n",
    "If you're interested in specific classes such as liver, kidney, and spleen, you can choose them without using the entire set by modifying the data object to add a `model_params` key, along with the `labels` you want included from the base 117 classes."
   ]
  },
  {
   "cell_type": "code",
   "execution_count": null,
   "id": "e592d522-9ab2-489e-9bdd-ff06caa69695",
   "metadata": {},
   "outputs": [],
   "source": [
    "data = {\n",
    "  \"name\": \"my_vista_3_organ\",\n",
    "  \"description\": \"based on vista\",\n",
    "  \"network_arch\": \"monai_vista3d\",\n",
    "  \"base_experiment\": [ ptm_vista ],\n",
    "  \"inference_dataset\": dataset_id,\n",
    "  \"eval_dataset\": dataset_id,\n",
    "  \"train_datasets\": [ dataset_id ],\n",
    "  \"realtime_infer\": True,\n",
    "  \"model_params\":{\n",
    "      \"labels\":{\n",
    "          \"1\": \"liver\",\n",
    "          \"2\": \"kidney\",\n",
    "          \"3\": \"spleen\"\n",
    "      }\n",
    "  }\n",
    "}"
   ]
  },
  {
   "cell_type": "markdown",
   "id": "7925950f-6302-4750-9b9d-f9810bf4a07b",
   "metadata": {},
   "source": [
    "2. **Adding Custom Classes**\n",
    "\n",
    "If you have specific classes not present in the base VISTA-3D model, you can easily add them. This customization allows developers to tailor the experiment to their specific needs, ensuring that only relevant classes are present, while also offering the flexibility to introduce new classes as needed."
   ]
  },
  {
   "cell_type": "code",
   "execution_count": null,
   "id": "2e016ef8-1b9b-4740-ad8b-267db8dd3379",
   "metadata": {},
   "outputs": [],
   "source": [
    "data = {\n",
    "  \"model_params\":{\n",
    "      \"labels\":{\n",
    "          \"1\": \"liver\",\n",
    "          \"2\": \"kidney\",\n",
    "          \"118\": \"myorgan\" # add customized class\n",
    "      }\n",
    "  }\n",
    "}"
   ]
  },
  {
   "cell_type": "markdown",
   "id": "b0ec39cb-769b-4a25-96e8-ebe616739c11",
   "metadata": {},
   "source": [
    "## Deleting Datasets and Experiments\n",
    "\n",
    "If you've created test datasets or experiments that you no longer need, you can easily remove them using the MONAI Cloud APIs. Let's walk through the cleanup process.\n",
    "\n",
    "### Deleting an Experiment\n",
    "\n",
    "To delete an experiment, employ the following API call. Be sure to replace `<experiment_id>` with the appropriate experiment's ID:"
   ]
  },
  {
   "cell_type": "code",
   "execution_count": null,
   "id": "def74cf8-8ba6-42a6-8d26-53ea654a850e",
   "metadata": {},
   "outputs": [],
   "source": [
    "endpoint = f\"{base_url}/experiments/{experiment_id}\"\n",
    "response = requests.delete(endpoint, headers=headers)\n",
    "assert response.status_code == 200, f\"Delete experiment failed, got {response.json()}.\"\n",
    "print(response.json())\n",
    "print(response)"
   ]
  },
  {
   "cell_type": "markdown",
   "id": "88909f66-c4f5-4119-aafe-3718b0f5d0c8",
   "metadata": {},
   "source": [
    "### Deleting a Dataset\n",
    "\n",
    "To delete a dataset, use the provided API endpoint. Replace `<dataset_id>` with the ID of the dataset you wish to remove:"
   ]
  },
  {
   "cell_type": "code",
   "execution_count": null,
   "id": "cf2f73df-ba8a-4605-afb2-54bb37bcc685",
   "metadata": {},
   "outputs": [],
   "source": [
    "endpoint = f\"{base_url}/datasets/{dataset_id}\"\n",
    "response = requests.delete(endpoint, headers=headers)\n",
    "assert response.status_code == 200, f\"Delete dataset failed, got {response.json()}.\"\n",
    "print(response.json())\n",
    "print(response)"
   ]
  },
  {
   "cell_type": "markdown",
   "id": "4c19fe25-5135-4a39-8ddc-2aa8d4fda3fd",
   "metadata": {},
   "source": [
    "These commands ensure that your work environment remains clutter-free, allowing for more efficient resource management."
   ]
  },
  {
   "cell_type": "markdown",
   "id": "61299e0b-0419-442b-b516-adf8fd7128a1",
   "metadata": {},
   "source": [
    "## Conclusion\n",
    "\n",
    "Bravo! You've now created a dataset and selected an experiment, setting the stage to harness the full capabilities of the NVIDIA MONAI Cloud APIs. Always keep your workspace organized, and you'll find that managing complex projects becomes significantly more straightforward. The upcoming notebooks involve executing annotations and continuous learning tasks, or utilizing platforms like the OHIF Viewer."
   ]
  }
 ],
 "metadata": {
  "kernelspec": {
   "display_name": "venv",
   "language": "python",
   "name": "python3"
  },
  "language_info": {
   "codemirror_mode": {
    "name": "ipython",
    "version": 3
   },
   "file_extension": ".py",
   "mimetype": "text/x-python",
   "name": "python",
   "nbconvert_exporter": "python",
   "pygments_lexer": "ipython3",
   "version": "3.11.5"
  }
 },
 "nbformat": 4,
 "nbformat_minor": 5
}
